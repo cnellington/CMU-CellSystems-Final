{
 "cells": [
  {
   "cell_type": "code",
   "execution_count": 1,
   "metadata": {},
   "outputs": [],
   "source": [
    "import importlib\n",
    "import random\n",
    "import pandas as pd\n",
    "import numpy as np\n",
    "import networkx as nx\n",
    "import matplotlib.pyplot as plt\n",
    "\n",
    "import functions\n",
    "functions = importlib.reload(functions)"
   ]
  },
  {
   "cell_type": "code",
   "execution_count": 2,
   "metadata": {},
   "outputs": [],
   "source": [
    "# define environment.time_to_switch\n",
    "# define agent.phenotype\n",
    "# define agent.mutation_rate"
   ]
  },
  {
   "cell_type": "code",
   "execution_count": null,
   "metadata": {},
   "outputs": [],
   "source": []
  },
  {
   "cell_type": "code",
   "execution_count": 3,
   "metadata": {},
   "outputs": [],
   "source": [
    "def converged(states):\n",
    "    return len(np.unique(states)) == 1\n",
    "\n",
    "def simulate_bd(n_agents, \n",
    "                fitnesses, \n",
    "                init_environment,\n",
    "                environment_duration,\n",
    "                max_iter=1000):\n",
    "    \n",
    "    agent_states = np.zeros(n_agents).astype(int)\n",
    "    agent_states[0] = 1  # initial mutation\n",
    "    environment = init_environment\n",
    "    time_to_switch = environment_duration()\n",
    "\n",
    "    iter_count = 0\n",
    "    while iter_count < max_iter and not converged(agent_states):\n",
    "        # Check for environment switch\n",
    "        if time_to_switch <= 0:\n",
    "            environment = 1 - environment\n",
    "            time_to_switch = environment_duration()\n",
    "\n",
    "        # Get agent fitnesses in the current environment\n",
    "        fitness_landscape = fitnesses[environment]\n",
    "        weights = np.array([fitness_landscape[state] for state in agent_states])\n",
    "        \n",
    "        # Choose agent to birth based on fitness\n",
    "        idx = list(range(len(agent_states)))\n",
    "        birth_node = random.choices(idx, weights=weights)[0]\n",
    "\n",
    "        # Uniformly choose a different agent to die\n",
    "        idx.remove(birth_node)\n",
    "        death_node = random.choice(idx)\n",
    "\n",
    "        # Update agent states\n",
    "        agent_states[death_node] = agent_states[birth_node]\n",
    "\n",
    "        # Update timestep\n",
    "        time_to_switch -= 1\n",
    "        iter_count +=1\n",
    "    \n",
    "    mutant_freq = np.mean(agent_states)\n",
    "    return mutant_freq"
   ]
  },
  {
   "cell_type": "code",
   "execution_count": 4,
   "metadata": {},
   "outputs": [
    {
     "name": "stdout",
     "output_type": "stream",
     "text": [
      "0.1073\n"
     ]
    }
   ],
   "source": [
    "environment_duration = lambda: np.random.gamma(25, 25) + 1\n",
    "# environment_duration = lambda: 1e7\n",
    "\n",
    "s = 1.\n",
    "fitnesses = [[1, 1+s],[1+s, 1]]\n",
    "n_agents = 100\n",
    "\n",
    "mutant_freqs = []\n",
    "for _ in range(100):\n",
    "    init_environment = random.randint(0, 1)\n",
    "#     init_environment = 0\n",
    "    mutant_freq = simulate_bd(n_agents, \n",
    "                              fitnesses, \n",
    "                              init_environment, \n",
    "                              environment_duration,\n",
    "                              max_iter=10000)\n",
    "    mutant_freqs.append(mutant_freq)\n",
    "print(np.mean(mutant_freqs))"
   ]
  },
  {
   "cell_type": "code",
   "execution_count": 83,
   "metadata": {},
   "outputs": [
    {
     "data": {
      "text/plain": [
       "1"
      ]
     },
     "execution_count": 83,
     "metadata": {},
     "output_type": "execute_result"
    }
   ],
   "source": [
    "def simulate_bd(n_agents, \n",
    "                fitnesses, \n",
    "                init_environment,\n",
    "                environment_duration,\n",
    "                max_iter=1000):\n",
    "    \n",
    "    agent_states = np.zeros(n_agents).astype(int)\n",
    "    agent_states[0] = 1  # initial mutation\n",
    "    environment = init_environment\n",
    "    time_to_switch = environment_duration()\n",
    "\n",
    "    iter_count = 0\n",
    "    while iter_count < max_iter and not converged(agent_states):\n",
    "        # Check for environment switch\n",
    "        if time_to_switch <= 0:\n",
    "            environment = 1 - environment\n",
    "            time_to_switch = environment_duration()\n",
    "\n",
    "        # Get agent fitnesses in the current environment\n",
    "        fitness_landscape = fitnesses[environment]\n",
    "        weights = np.array([fitness_landscape[state] for state in agent_states])\n",
    "        \n",
    "        # Choose agent to birth based on fitness\n",
    "        idx = list(range(len(agent_states)))\n",
    "        birth_node = random.choices(idx, weights=weights)[0]\n",
    "\n",
    "        # Uniformly choose a different agent to die\n",
    "        idx.remove(birth_node)\n",
    "        death_node = random.choice(idx)\n",
    "\n",
    "        # Update agent states\n",
    "        agent_states[death_node] = agent_states[birth_node]\n",
    "\n",
    "        # Update timestep\n",
    "        time_to_switch -= 1\n",
    "        iter_count +=1\n",
    "    \n",
    "    mutant_freq = np.mean(agent_states)\n",
    "    return mutant_freq"
   ]
  },
  {
   "cell_type": "code",
   "execution_count": null,
   "metadata": {},
   "outputs": [],
   "source": []
  },
  {
   "cell_type": "code",
   "execution_count": 85,
   "metadata": {},
   "outputs": [
    {
     "name": "stderr",
     "output_type": "stream",
     "text": [
      "100%|██████████| 100/100 [00:51<00:00,  1.96it/s]\n"
     ]
    }
   ],
   "source": [
    "from tqdm import tqdm\n",
    "\n",
    "params = [(m, v) for m in range(-5,5) for v in np.linspace(0.1, 5, 10)]\n",
    "\n",
    "freq_list = []\n",
    "\n",
    "for param in tqdm(params):\n",
    "\n",
    "    s = -0.8\n",
    "    fitnesses = [[1, 1+s],[1+s, 1]]\n",
    "    n_agents = 10\n",
    "    \n",
    "    mutant_freqs = []\n",
    "    for _ in range(500):\n",
    "        init_environment = random.randint(0, 1)\n",
    "        def environment_duration():\n",
    "            return np.random.lognormal(param[0], param[1]) + 1\n",
    "        \n",
    "        mutant_freq = simulate_bd(n_agents, \n",
    "                                  fitnesses, \n",
    "                                  init_environment, \n",
    "                                  environment_duration,\n",
    "                                  max_iter=1000)\n",
    "        mutant_freqs.append(mutant_freq)\n",
    "    \n",
    "    #print(np.mean(mutant_freqs))\n",
    "    freq_list.append(np.mean(mutant_freqs))"
   ]
  },
  {
   "cell_type": "code",
   "execution_count": 88,
   "metadata": {},
   "outputs": [],
   "source": [
    "freq_arr2 = np.array(freq_list)\n",
    "freq_arr2 = np.reshape(freq_arr2, (10,10))"
   ]
  },
  {
   "cell_type": "code",
   "execution_count": 79,
   "metadata": {},
   "outputs": [
    {
     "data": {
      "text/plain": [
       "array([0.134, 0.116, 0.156, 0.138, 0.164, 0.118, 0.114, 0.156, 0.146,\n",
       "       0.142, 0.13 , 0.104, 0.138, 0.118, 0.114, 0.126, 0.128, 0.128,\n",
       "       0.15 , 0.164, 0.14 , 0.122, 0.128, 0.134, 0.144, 0.136, 0.158,\n",
       "       0.158, 0.17 , 0.154, 0.15 , 0.106, 0.112, 0.126, 0.154, 0.148,\n",
       "       0.122, 0.162, 0.156, 0.164, 0.134, 0.11 , 0.144, 0.12 , 0.148,\n",
       "       0.142, 0.178, 0.168, 0.15 , 0.184, 0.134, 0.146, 0.134, 0.132,\n",
       "       0.16 , 0.156, 0.218, 0.188, 0.182, 0.198, 0.12 , 0.098, 0.124,\n",
       "       0.152, 0.134, 0.172, 0.176, 0.208, 0.216, 0.182, 0.126, 0.14 ,\n",
       "       0.146, 0.15 , 0.194, 0.182, 0.17 , 0.19 , 0.178, 0.204, 0.162,\n",
       "       0.13 , 0.18 , 0.19 , 0.188, 0.188, 0.2  , 0.184, 0.188, 0.202,\n",
       "       0.202, 0.184, 0.23 , 0.204, 0.166, 0.224, 0.214, 0.202, 0.234,\n",
       "       0.214])"
      ]
     },
     "execution_count": 79,
     "metadata": {},
     "output_type": "execute_result"
    }
   ],
   "source": [
    "#freq_arr2 = np.array(freq_list2)\n",
    "#freq_arr"
   ]
  },
  {
   "cell_type": "code",
   "execution_count": 80,
   "metadata": {},
   "outputs": [],
   "source": [
    "freq_arr = np.reshape(freq_arr, (10,10))"
   ]
  },
  {
   "cell_type": "code",
   "execution_count": 81,
   "metadata": {},
   "outputs": [
    {
     "data": {
      "text/plain": [
       "Text(0.5, 1.0, 'N = 10 | s = 1')"
      ]
     },
     "execution_count": 81,
     "metadata": {},
     "output_type": "execute_result"
    },
    {
     "data": {
      "image/png": "[encoded data removed]",
      "text/plain": [
       "<Figure size 432x288 with 2 Axes>"
      ]
     },
     "metadata": {
      "needs_background": "light"
     },
     "output_type": "display_data"
    }
   ],
   "source": [
    "#plt.figure(figsize=(6,10))\n",
    "plt.imshow(freq_arr, cmap='plasma')\n",
    "plt.colorbar()\n",
    "plt.ylabel('log-Mean')\n",
    "plt.xlabel('log-Std')\n",
    "plt.title('N = 10 | s = 1')"
   ]
  },
  {
   "cell_type": "code",
   "execution_count": 89,
   "metadata": {},
   "outputs": [
    {
     "data": {
      "text/plain": [
       "Text(0.5, 1.0, 'N = 10 | s = -.8')"
      ]
     },
     "execution_count": 89,
     "metadata": {},
     "output_type": "execute_result"
    },
    {
     "data": {
      "image/png": "[encoded data removed]",
      "text/plain": [
       "<Figure size 432x288 with 2 Axes>"
      ]
     },
     "metadata": {
      "needs_background": "light"
     },
     "output_type": "display_data"
    }
   ],
   "source": [
    "#plt.figure(figsize=(6,10))\n",
    "plt.imshow(freq_arr2, cmap='plasma')\n",
    "plt.colorbar()\n",
    "plt.ylabel('log-Mean')\n",
    "plt.xlabel('log-Std')\n",
    "plt.title('N = 10 | s = -.8')"
   ]
  },
  {
   "cell_type": "code",
   "execution_count": 72,
   "metadata": {},
   "outputs": [
    {
     "data": {
      "text/plain": [
       "True"
      ]
     },
     "execution_count": 72,
     "metadata": {},
     "output_type": "execute_result"
    }
   ],
   "source": [
    "np.array_equal(freq_arr, freq_arr2)"
   ]
  },
  {
   "cell_type": "code",
   "execution_count": 73,
   "metadata": {},
   "outputs": [
    {
     "data": {
      "text/plain": [
       "array([[0.094, 0.15 , 0.126, 0.128, 0.126, 0.136, 0.126, 0.134, 0.114,\n",
       "        0.12 , 0.13 , 0.146, 0.144, 0.114, 0.124, 0.12 , 0.146, 0.112,\n",
       "        0.13 , 0.104, 0.116, 0.134, 0.142, 0.126, 0.142, 0.134, 0.132,\n",
       "        0.142, 0.128, 0.112],\n",
       "       [0.152, 0.128, 0.134, 0.126, 0.116, 0.118, 0.132, 0.132, 0.112,\n",
       "        0.114, 0.132, 0.138, 0.15 , 0.118, 0.102, 0.124, 0.118, 0.104,\n",
       "        0.128, 0.122, 0.13 , 0.138, 0.15 , 0.13 , 0.114, 0.126, 0.116,\n",
       "        0.154, 0.126, 0.11 ],\n",
       "       [0.14 , 0.144, 0.128, 0.13 , 0.146, 0.112, 0.158, 0.114, 0.15 ,\n",
       "        0.15 , 0.146, 0.112, 0.144, 0.126, 0.152, 0.128, 0.132, 0.148,\n",
       "        0.118, 0.132, 0.14 , 0.14 , 0.12 , 0.128, 0.118, 0.134, 0.144,\n",
       "        0.132, 0.126, 0.144],\n",
       "       [0.12 , 0.126, 0.112, 0.13 , 0.098, 0.136, 0.124, 0.126, 0.106,\n",
       "        0.128, 0.11 , 0.128, 0.148, 0.138, 0.128, 0.116, 0.132, 0.11 ,\n",
       "        0.158, 0.128, 0.144, 0.146, 0.162, 0.156, 0.164, 0.152, 0.152,\n",
       "        0.164, 0.144, 0.168],\n",
       "       [0.118, 0.146, 0.132, 0.154, 0.148, 0.12 , 0.146, 0.13 , 0.134,\n",
       "        0.108, 0.162, 0.12 , 0.12 , 0.094, 0.124, 0.108, 0.118, 0.096,\n",
       "        0.138, 0.126, 0.146, 0.142, 0.144, 0.174, 0.144, 0.134, 0.156,\n",
       "        0.164, 0.134, 0.17 ],\n",
       "       [0.14 , 0.164, 0.12 , 0.13 , 0.162, 0.124, 0.136, 0.152, 0.13 ,\n",
       "        0.122, 0.144, 0.144, 0.162, 0.14 , 0.116, 0.144, 0.14 , 0.152,\n",
       "        0.124, 0.178, 0.168, 0.134, 0.134, 0.138, 0.138, 0.158, 0.154,\n",
       "        0.178, 0.128, 0.16 ],\n",
       "       [0.152, 0.114, 0.124, 0.142, 0.118, 0.12 , 0.134, 0.13 , 0.126,\n",
       "        0.138, 0.18 , 0.116, 0.18 , 0.128, 0.112, 0.156, 0.154, 0.154,\n",
       "        0.154, 0.166, 0.194, 0.15 , 0.152, 0.184, 0.188, 0.158, 0.17 ,\n",
       "        0.182, 0.174, 0.182],\n",
       "       [0.128, 0.102, 0.156, 0.126, 0.128, 0.13 , 0.138, 0.136, 0.12 ,\n",
       "        0.148, 0.174, 0.134, 0.164, 0.152, 0.136, 0.19 , 0.17 , 0.166,\n",
       "        0.136, 0.158, 0.158, 0.18 , 0.188, 0.2  , 0.158, 0.158, 0.194,\n",
       "        0.192, 0.196, 0.182],\n",
       "       [0.15 , 0.15 , 0.158, 0.12 , 0.158, 0.146, 0.146, 0.138, 0.182,\n",
       "        0.168, 0.148, 0.148, 0.206, 0.184, 0.176, 0.182, 0.178, 0.188,\n",
       "        0.196, 0.202, 0.186, 0.184, 0.202, 0.182, 0.16 , 0.192, 0.214,\n",
       "        0.172, 0.206, 0.172],\n",
       "       [0.23 , 0.186, 0.17 , 0.228, 0.208, 0.206, 0.192, 0.188, 0.206,\n",
       "        0.194, 0.198, 0.18 , 0.168, 0.198, 0.176, 0.186, 0.216, 0.232,\n",
       "        0.214, 0.166, 0.206, 0.19 , 0.172, 0.23 , 0.204, 0.202, 0.188,\n",
       "        0.198, 0.182, 0.212]])"
      ]
     },
     "execution_count": 73,
     "metadata": {},
     "output_type": "execute_result"
    }
   ],
   "source": [
    "freq_arr"
   ]
  },
  {
   "cell_type": "code",
   "execution_count": 74,
   "metadata": {},
   "outputs": [
    {
     "data": {
      "text/plain": [
       "array([[0.094, 0.15 , 0.126, 0.128, 0.126, 0.136, 0.126, 0.134, 0.114,\n",
       "        0.12 , 0.13 , 0.146, 0.144, 0.114, 0.124, 0.12 , 0.146, 0.112,\n",
       "        0.13 , 0.104, 0.116, 0.134, 0.142, 0.126, 0.142, 0.134, 0.132,\n",
       "        0.142, 0.128, 0.112],\n",
       "       [0.152, 0.128, 0.134, 0.126, 0.116, 0.118, 0.132, 0.132, 0.112,\n",
       "        0.114, 0.132, 0.138, 0.15 , 0.118, 0.102, 0.124, 0.118, 0.104,\n",
       "        0.128, 0.122, 0.13 , 0.138, 0.15 , 0.13 , 0.114, 0.126, 0.116,\n",
       "        0.154, 0.126, 0.11 ],\n",
       "       [0.14 , 0.144, 0.128, 0.13 , 0.146, 0.112, 0.158, 0.114, 0.15 ,\n",
       "        0.15 , 0.146, 0.112, 0.144, 0.126, 0.152, 0.128, 0.132, 0.148,\n",
       "        0.118, 0.132, 0.14 , 0.14 , 0.12 , 0.128, 0.118, 0.134, 0.144,\n",
       "        0.132, 0.126, 0.144],\n",
       "       [0.12 , 0.126, 0.112, 0.13 , 0.098, 0.136, 0.124, 0.126, 0.106,\n",
       "        0.128, 0.11 , 0.128, 0.148, 0.138, 0.128, 0.116, 0.132, 0.11 ,\n",
       "        0.158, 0.128, 0.144, 0.146, 0.162, 0.156, 0.164, 0.152, 0.152,\n",
       "        0.164, 0.144, 0.168],\n",
       "       [0.118, 0.146, 0.132, 0.154, 0.148, 0.12 , 0.146, 0.13 , 0.134,\n",
       "        0.108, 0.162, 0.12 , 0.12 , 0.094, 0.124, 0.108, 0.118, 0.096,\n",
       "        0.138, 0.126, 0.146, 0.142, 0.144, 0.174, 0.144, 0.134, 0.156,\n",
       "        0.164, 0.134, 0.17 ],\n",
       "       [0.14 , 0.164, 0.12 , 0.13 , 0.162, 0.124, 0.136, 0.152, 0.13 ,\n",
       "        0.122, 0.144, 0.144, 0.162, 0.14 , 0.116, 0.144, 0.14 , 0.152,\n",
       "        0.124, 0.178, 0.168, 0.134, 0.134, 0.138, 0.138, 0.158, 0.154,\n",
       "        0.178, 0.128, 0.16 ],\n",
       "       [0.152, 0.114, 0.124, 0.142, 0.118, 0.12 , 0.134, 0.13 , 0.126,\n",
       "        0.138, 0.18 , 0.116, 0.18 , 0.128, 0.112, 0.156, 0.154, 0.154,\n",
       "        0.154, 0.166, 0.194, 0.15 , 0.152, 0.184, 0.188, 0.158, 0.17 ,\n",
       "        0.182, 0.174, 0.182],\n",
       "       [0.128, 0.102, 0.156, 0.126, 0.128, 0.13 , 0.138, 0.136, 0.12 ,\n",
       "        0.148, 0.174, 0.134, 0.164, 0.152, 0.136, 0.19 , 0.17 , 0.166,\n",
       "        0.136, 0.158, 0.158, 0.18 , 0.188, 0.2  , 0.158, 0.158, 0.194,\n",
       "        0.192, 0.196, 0.182],\n",
       "       [0.15 , 0.15 , 0.158, 0.12 , 0.158, 0.146, 0.146, 0.138, 0.182,\n",
       "        0.168, 0.148, 0.148, 0.206, 0.184, 0.176, 0.182, 0.178, 0.188,\n",
       "        0.196, 0.202, 0.186, 0.184, 0.202, 0.182, 0.16 , 0.192, 0.214,\n",
       "        0.172, 0.206, 0.172],\n",
       "       [0.23 , 0.186, 0.17 , 0.228, 0.208, 0.206, 0.192, 0.188, 0.206,\n",
       "        0.194, 0.198, 0.18 , 0.168, 0.198, 0.176, 0.186, 0.216, 0.232,\n",
       "        0.214, 0.166, 0.206, 0.19 , 0.172, 0.23 , 0.204, 0.202, 0.188,\n",
       "        0.198, 0.182, 0.212]])"
      ]
     },
     "execution_count": 74,
     "metadata": {},
     "output_type": "execute_result"
    }
   ],
   "source": [
    "freq_arr2"
   ]
  },
  {
   "cell_type": "code",
   "execution_count": 75,
   "metadata": {},
   "outputs": [
    {
     "data": {
      "text/plain": [
       "0.232"
      ]
     },
     "execution_count": 75,
     "metadata": {},
     "output_type": "execute_result"
    }
   ],
   "source": [
    "np.max(freq_arr2)"
   ]
  },
  {
   "cell_type": "code",
   "execution_count": 90,
   "metadata": {},
   "outputs": [
    {
     "data": {
      "text/plain": [
       "148.4131591025766"
      ]
     },
     "execution_count": 90,
     "metadata": {},
     "output_type": "execute_result"
    }
   ],
   "source": [
    "np.exp(5)"
   ]
  },
  {
   "cell_type": "code",
   "execution_count": null,
   "metadata": {},
   "outputs": [],
   "source": []
  }
 ],
 "metadata": {
  "kernelspec": {
   "display_name": "Python 3",
   "language": "python",
   "name": "python3"
  },
  "language_info": {
   "codemirror_mode": {
    "name": "ipython",
    "version": 3
   },
   "file_extension": ".py",
   "mimetype": "text/x-python",
   "name": "python",
   "nbconvert_exporter": "python",
   "pygments_lexer": "ipython3",
   "version": "3.8.5"
  }
 },
 "nbformat": 4,
 "nbformat_minor": 5
}

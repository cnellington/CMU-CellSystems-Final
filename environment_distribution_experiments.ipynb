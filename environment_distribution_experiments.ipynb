{
 "cells": [
  {
   "cell_type": "code",
   "execution_count": 23,
   "id": "intense-heater",
   "metadata": {},
   "outputs": [],
   "source": [
    "import importlib\n",
    "import random\n",
    "import pandas as pd\n",
    "import numpy as np\n",
    "import networkx as nx\n",
    "import matplotlib.pyplot as plt\n",
    "\n",
    "import functions\n",
    "functions = importlib.reload(functions)"
   ]
  },
  {
   "cell_type": "code",
   "execution_count": 4,
   "id": "loving-colony",
   "metadata": {},
   "outputs": [],
   "source": [
    "# define environment.time_to_switch\n",
    "# define agent.phenotype\n",
    "# define agent.mutation_rate"
   ]
  },
  {
   "cell_type": "code",
   "execution_count": 62,
   "id": "focal-dakota",
   "metadata": {},
   "outputs": [],
   "source": []
  },
  {
   "cell_type": "code",
   "execution_count": 147,
   "id": "billion-persian",
   "metadata": {},
   "outputs": [],
   "source": [
    "def converged(states):\n",
    "    return len(np.unique(states)) == 1\n",
    "\n",
    "def simulate_bd(n_agents, \n",
    "                fitnesses, \n",
    "                init_environment,\n",
    "                environment_duration,\n",
    "                max_iter=1000):\n",
    "    \n",
    "    agent_states = np.zeros(n_agents).astype(int)\n",
    "    agent_states[0] = 1  # initial mutation\n",
    "    environment = init_environment\n",
    "    time_to_switch = environment_duration()\n",
    "\n",
    "    iter_count = 0\n",
    "    while iter_count < max_iter and not converged(agent_states):\n",
    "        # Check for environment switch\n",
    "        if time_to_switch <= 0:\n",
    "            environment = 1 - environment\n",
    "            time_to_switch = environment_duration()\n",
    "\n",
    "        # Get agent fitnesses in the current environment\n",
    "        fitness_landscape = fitnesses[environment]\n",
    "        weights = np.array([fitness_landscape[state] for state in agent_states])\n",
    "        \n",
    "        # Choose agent to birth based on fitness\n",
    "        idx = list(range(len(agent_states)))\n",
    "        birth_node = random.choices(idx, weights=weights)[0]\n",
    "\n",
    "        # Uniformly choose a different agent to die\n",
    "        idx.remove(birth_node)\n",
    "        death_node = random.choice(idx)\n",
    "\n",
    "        # Update agent states\n",
    "        agent_states[death_node] = agent_states[birth_node]\n",
    "\n",
    "        # Update timestep\n",
    "        time_to_switch -= 1\n",
    "        iter_count +=1\n",
    "    \n",
    "    mutant_freq = np.mean(agent_states)\n",
    "    return mutant_freq"
   ]
  },
  {
   "cell_type": "code",
   "execution_count": 166,
   "id": "statewide-table",
   "metadata": {},
   "outputs": [
    {
     "name": "stdout",
     "output_type": "stream",
     "text": [
      "0.047400000000000005\n"
     ]
    }
   ],
   "source": [
    "environment_duration = lambda: np.random.gamma(25, 25) + 1\n",
    "# environment_duration = lambda: 1e7\n",
    "\n",
    "s = 1.\n",
    "fitnesses = [[1, 1+s],[1+s, 1]]\n",
    "n_agents = 100\n",
    "\n",
    "mutant_freqs = []\n",
    "for _ in range(100):\n",
    "    init_environment = random.randint(0, 1)\n",
    "#     init_environment = 0\n",
    "    mutant_freq = simulate_bd(n_agents, \n",
    "                              fitnesses, \n",
    "                              init_environment, \n",
    "                              environment_duration,\n",
    "                              max_iter=10000)\n",
    "    mutant_freqs.append(mutant_freq)\n",
    "print(np.mean(mutant_freqs))"
   ]
  },
  {
   "cell_type": "code",
   "execution_count": 83,
   "id": "anticipated-professional",
   "metadata": {},
   "outputs": [
    {
     "data": {
      "text/plain": [
       "1"
      ]
     },
     "execution_count": 83,
     "metadata": {},
     "output_type": "execute_result"
    }
   ],
   "source": [
    "def simulate_bd(n_agents, \n",
    "                fitnesses, \n",
    "                init_environment,\n",
    "                environment_duration,\n",
    "                max_iter=1000):\n",
    "    \n",
    "    agent_states = np.zeros(n_agents).astype(int)\n",
    "    agent_states[0] = 1  # initial mutation\n",
    "    environment = init_environment\n",
    "    time_to_switch = environment_duration()\n",
    "\n",
    "    iter_count = 0\n",
    "    while iter_count < max_iter and not converged(agent_states):\n",
    "        # Check for environment switch\n",
    "        if time_to_switch <= 0:\n",
    "            environment = 1 - environment\n",
    "            time_to_switch = environment_duration()\n",
    "\n",
    "        # Get agent fitnesses in the current environment\n",
    "        fitness_landscape = fitnesses[environment]\n",
    "        weights = np.array([fitness_landscape[state] for state in agent_states])\n",
    "        \n",
    "        # Choose agent to birth based on fitness\n",
    "        idx = list(range(len(agent_states)))\n",
    "        birth_node = random.choices(idx, weights=weights)[0]\n",
    "\n",
    "        # Uniformly choose a different agent to die\n",
    "        idx.remove(birth_node)\n",
    "        death_node = random.choice(idx)\n",
    "\n",
    "        # Update agent states\n",
    "        agent_states[death_node] = agent_states[birth_node]\n",
    "\n",
    "        # Update timestep\n",
    "        time_to_switch -= 1\n",
    "        iter_count +=1\n",
    "    \n",
    "    mutant_freq = np.mean(agent_states)\n",
    "    return mutant_freq"
   ]
  },
  {
   "cell_type": "code",
   "execution_count": null,
   "id": "sweet-substitute",
   "metadata": {},
   "outputs": [],
   "source": []
  }
 ],
 "metadata": {
  "kernelspec": {
   "display_name": "Python [conda env:cellsystems]",
   "language": "python",
   "name": "conda-env-cellsystems-py"
  },
  "language_info": {
   "codemirror_mode": {
    "name": "ipython",
    "version": 3
   },
   "file_extension": ".py",
   "mimetype": "text/x-python",
   "name": "python",
   "nbconvert_exporter": "python",
   "pygments_lexer": "ipython3",
   "version": "3.7.9"
  }
 },
 "nbformat": 4,
 "nbformat_minor": 5
}
